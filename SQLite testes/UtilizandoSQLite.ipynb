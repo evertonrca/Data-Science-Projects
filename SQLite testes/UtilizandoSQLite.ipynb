{
  "nbformat": 4,
  "nbformat_minor": 0,
  "metadata": {
    "colab": {
      "name": "UtilizandoSQLite.ipynb",
      "provenance": [],
      "collapsed_sections": [],
      "toc_visible": true,
      "mount_file_id": "1z1WESefSROibmLhVeMoH1kVJO9bOKyCF",
      "authorship_tag": "ABX9TyMkYIFykOApzvS52xCFNNeI",
      "include_colab_link": true
    },
    "kernelspec": {
      "name": "python3",
      "display_name": "Python 3"
    },
    "language_info": {
      "name": "python"
    }
  },
  "cells": [
    {
      "cell_type": "markdown",
      "metadata": {
        "id": "view-in-github",
        "colab_type": "text"
      },
      "source": [
        "<a href=\"https://colab.research.google.com/github/evertonrca/Data-Science-Projects/blob/main/SQLite%20testes/UtilizandoSQLite.ipynb\" target=\"_parent\"><img src=\"https://colab.research.google.com/assets/colab-badge.svg\" alt=\"Open In Colab\"/></a>"
      ]
    },
    {
      "cell_type": "markdown",
      "metadata": {
        "id": "ual42u8XfyU0"
      },
      "source": [
        "# Testes Python com SQLite"
      ]
    },
    {
      "cell_type": "code",
      "metadata": {
        "colab": {
          "base_uri": "https://localhost:8080/"
        },
        "id": "wLy0gn51MIUM",
        "outputId": "5b422376-dd65-491a-8b73-7a9ee744d615"
      },
      "source": [
        "#Instalando SQLite 3\n",
        "! pip install pysqlite3 "
      ],
      "execution_count": null,
      "outputs": [
        {
          "output_type": "stream",
          "text": [
            "Requirement already satisfied: pysqlite3 in /usr/local/lib/python3.7/dist-packages (0.4.5)\n"
          ],
          "name": "stdout"
        }
      ]
    },
    {
      "cell_type": "code",
      "metadata": {
        "id": "wIiy4BosMT64"
      },
      "source": [
        "#Importando bibliotecas\n",
        "import os\n",
        "import sqlite3\n",
        "import datetime\n",
        "import time\n",
        "import random\n",
        "import pandas as pd\n",
        "import numpy as np\n",
        "import matplotlib.pyplot as plt"
      ],
      "execution_count": null,
      "outputs": []
    },
    {
      "cell_type": "code",
      "metadata": {
        "id": "0BMCeil2NQn3"
      },
      "source": [
        "os.remove('/content/drive/MyDrive/Colab Notebooks/Python/Python-DSA/Cap06/banco_teste.db') if os.path.exists('/content/drive/MyDrive/Colab Notebooks/Python/Python-DSA/Cap06/banco_test.db') else None"
      ],
      "execution_count": null,
      "outputs": []
    },
    {
      "cell_type": "code",
      "metadata": {
        "id": "J-UsNlF_NZt-"
      },
      "source": [
        "con = sqlite3.connect('/content/drive/MyDrive/Colab Notebooks/Python/Python-DSA/Cap06/banco_teste.db')"
      ],
      "execution_count": null,
      "outputs": []
    },
    {
      "cell_type": "code",
      "metadata": {
        "id": "N2SGtzwSNkNX"
      },
      "source": [
        "cursor = con.cursor()"
      ],
      "execution_count": null,
      "outputs": []
    },
    {
      "cell_type": "code",
      "metadata": {
        "colab": {
          "base_uri": "https://localhost:8080/"
        },
        "id": "m1S4Iag9NoaH",
        "outputId": "04990e9d-40be-41d9-976f-39fd3e478192"
      },
      "source": [
        "print(f'Tipo con: {type(con)}')\n",
        "print(f'Tipo cursos: {type(cursor)}')"
      ],
      "execution_count": null,
      "outputs": [
        {
          "output_type": "stream",
          "text": [
            "Tipo con: <class 'sqlite3.Connection'>\n",
            "Tipo cursos: <class 'sqlite3.Cursor'>\n"
          ],
          "name": "stdout"
        }
      ]
    },
    {
      "cell_type": "code",
      "metadata": {
        "id": "yWT_LZE2N0EV"
      },
      "source": [
        "#Criando tabelas no SQLite\n",
        "cria_tabela = 'create table Teste '\\\n",
        "'(Id int primary key,'\\\n",
        "'Date datetime not null,'\\\n",
        "'Number int not null)'"
      ],
      "execution_count": null,
      "outputs": []
    },
    {
      "cell_type": "code",
      "metadata": {
        "colab": {
          "base_uri": "https://localhost:8080/"
        },
        "id": "4qXgPRS1WLxD",
        "outputId": "77b7d60f-1566-4b73-f261-4c67b09e2710"
      },
      "source": [
        "cursor.execute(cria_tabela)"
      ],
      "execution_count": null,
      "outputs": [
        {
          "output_type": "execute_result",
          "data": {
            "text/plain": [
              "<sqlite3.Cursor at 0x7fd628e65f80>"
            ]
          },
          "metadata": {
            "tags": []
          },
          "execution_count": 8
        }
      ]
    },
    {
      "cell_type": "code",
      "metadata": {
        "id": "L9B1xDogXY2y"
      },
      "source": [
        "insercao = 'insert into Teste values (?, ?, ?)'"
      ],
      "execution_count": null,
      "outputs": []
    },
    {
      "cell_type": "code",
      "metadata": {
        "id": "QzFlT-jMWvEo"
      },
      "source": [
        "for dado in range(0,20):\n",
        "  cursor.execute(insercao, [dado, datetime.datetime.now(), random.randint(1,100)])\n",
        "  time.sleep(0.2)\n"
      ],
      "execution_count": null,
      "outputs": []
    },
    {
      "cell_type": "code",
      "metadata": {
        "id": "U374cm0uYM1m"
      },
      "source": [
        "#Gravando os dados no db\n",
        "con.commit()"
      ],
      "execution_count": null,
      "outputs": []
    },
    {
      "cell_type": "code",
      "metadata": {
        "id": "9bzAgNaAY7W6"
      },
      "source": [
        "#Consultando a tabela\n",
        "selecao = 'select * from Teste'"
      ],
      "execution_count": null,
      "outputs": []
    },
    {
      "cell_type": "code",
      "metadata": {
        "colab": {
          "base_uri": "https://localhost:8080/"
        },
        "id": "hYk-HEy2ZIl-",
        "outputId": "a2c7173a-2a45-4d86-b595-2b335277b63c"
      },
      "source": [
        "#Executando os selects\n",
        "cursor.execute(selecao)"
      ],
      "execution_count": null,
      "outputs": [
        {
          "output_type": "execute_result",
          "data": {
            "text/plain": [
              "<sqlite3.Cursor at 0x7fd628e65f80>"
            ]
          },
          "metadata": {
            "tags": []
          },
          "execution_count": 13
        }
      ]
    },
    {
      "cell_type": "code",
      "metadata": {
        "id": "IMejUzVAZRZM"
      },
      "source": [
        "#Salvando os registros no objeto dados\n",
        "dados = cursor.fetchall()"
      ],
      "execution_count": null,
      "outputs": []
    },
    {
      "cell_type": "code",
      "metadata": {
        "colab": {
          "base_uri": "https://localhost:8080/"
        },
        "id": "hV_jIheKZaPI",
        "outputId": "3726c1c5-c785-4406-d832-28266d162366"
      },
      "source": [
        "#Visualizando os dados\n",
        "print('ID,            Date,              Number')\n",
        "dados"
      ],
      "execution_count": null,
      "outputs": [
        {
          "output_type": "stream",
          "text": [
            "ID,            Date,              Number\n"
          ],
          "name": "stdout"
        },
        {
          "output_type": "execute_result",
          "data": {
            "text/plain": [
              "[(0, '2021-04-04 15:26:41.261852', 16),\n",
              " (1, '2021-04-04 15:26:41.467093', 50),\n",
              " (2, '2021-04-04 15:26:41.667654', 76),\n",
              " (3, '2021-04-04 15:26:41.868027', 95),\n",
              " (4, '2021-04-04 15:26:42.068662', 25),\n",
              " (5, '2021-04-04 15:26:42.269009', 97),\n",
              " (6, '2021-04-04 15:26:42.469399', 39),\n",
              " (7, '2021-04-04 15:26:42.669762', 81),\n",
              " (8, '2021-04-04 15:26:42.870186', 27),\n",
              " (9, '2021-04-04 15:26:43.070658', 45),\n",
              " (10, '2021-04-04 15:26:43.271068', 81),\n",
              " (11, '2021-04-04 15:26:43.471473', 24),\n",
              " (12, '2021-04-04 15:26:43.671918', 22),\n",
              " (13, '2021-04-04 15:26:43.872336', 51),\n",
              " (14, '2021-04-04 15:26:44.072628', 1),\n",
              " (15, '2021-04-04 15:26:44.273087', 95),\n",
              " (16, '2021-04-04 15:26:44.473490', 91),\n",
              " (17, '2021-04-04 15:26:44.673922', 64),\n",
              " (18, '2021-04-04 15:26:44.874355', 86),\n",
              " (19, '2021-04-04 15:26:45.074748', 35)]"
            ]
          },
          "metadata": {
            "tags": []
          },
          "execution_count": 15
        }
      ]
    },
    {
      "cell_type": "code",
      "metadata": {
        "colab": {
          "base_uri": "https://localhost:8080/"
        },
        "id": "CgH3hpt-bYO_",
        "outputId": "aa8339c9-00fd-4cdd-cf59-3522765ea49c"
      },
      "source": [
        "cursor.execute('select max(Id)+1 from Teste')"
      ],
      "execution_count": null,
      "outputs": [
        {
          "output_type": "execute_result",
          "data": {
            "text/plain": [
              "<sqlite3.Cursor at 0x7fd628e65f80>"
            ]
          },
          "metadata": {
            "tags": []
          },
          "execution_count": 16
        }
      ]
    },
    {
      "cell_type": "code",
      "metadata": {
        "id": "Ru3_QiMXcoMS"
      },
      "source": [
        "id = list(cursor.fetchone())"
      ],
      "execution_count": null,
      "outputs": []
    },
    {
      "cell_type": "code",
      "metadata": {
        "colab": {
          "base_uri": "https://localhost:8080/"
        },
        "id": "BjgmkqVwcxwC",
        "outputId": "e55e154a-8cff-45f2-8fba-d2297ae93cd8"
      },
      "source": [
        "print(id)"
      ],
      "execution_count": null,
      "outputs": [
        {
          "output_type": "stream",
          "text": [
            "[20]\n"
          ],
          "name": "stdout"
        }
      ]
    },
    {
      "cell_type": "code",
      "metadata": {
        "id": "u7H64rM2czIe"
      },
      "source": [
        "#Inserindo novos dados\n",
        "for x in range(id[0], 50):\n",
        "  cursor.execute('insert into Teste values (?, ?, ?)', [x, datetime.datetime.now(), random.randint(0,100)])"
      ],
      "execution_count": null,
      "outputs": []
    },
    {
      "cell_type": "code",
      "metadata": {
        "colab": {
          "base_uri": "https://localhost:8080/"
        },
        "id": "uSUYGJZkd-Ab",
        "outputId": "79499315-d71a-4cf2-cf18-52b96dfaa346"
      },
      "source": [
        "#Verificando novamente\n",
        "cursor.execute('select * from Teste')"
      ],
      "execution_count": null,
      "outputs": [
        {
          "output_type": "execute_result",
          "data": {
            "text/plain": [
              "<sqlite3.Cursor at 0x7fd628e65f80>"
            ]
          },
          "metadata": {
            "tags": []
          },
          "execution_count": 20
        }
      ]
    },
    {
      "cell_type": "code",
      "metadata": {
        "colab": {
          "base_uri": "https://localhost:8080/"
        },
        "id": "fX6LVKKGe_P1",
        "outputId": "05eacc2f-36c5-4d04-9b2a-a3a605813e27"
      },
      "source": [
        "cursor.fetchall()"
      ],
      "execution_count": null,
      "outputs": [
        {
          "output_type": "execute_result",
          "data": {
            "text/plain": [
              "[(0, '2021-04-04 15:26:41.261852', 16),\n",
              " (1, '2021-04-04 15:26:41.467093', 50),\n",
              " (2, '2021-04-04 15:26:41.667654', 76),\n",
              " (3, '2021-04-04 15:26:41.868027', 95),\n",
              " (4, '2021-04-04 15:26:42.068662', 25),\n",
              " (5, '2021-04-04 15:26:42.269009', 97),\n",
              " (6, '2021-04-04 15:26:42.469399', 39),\n",
              " (7, '2021-04-04 15:26:42.669762', 81),\n",
              " (8, '2021-04-04 15:26:42.870186', 27),\n",
              " (9, '2021-04-04 15:26:43.070658', 45),\n",
              " (10, '2021-04-04 15:26:43.271068', 81),\n",
              " (11, '2021-04-04 15:26:43.471473', 24),\n",
              " (12, '2021-04-04 15:26:43.671918', 22),\n",
              " (13, '2021-04-04 15:26:43.872336', 51),\n",
              " (14, '2021-04-04 15:26:44.072628', 1),\n",
              " (15, '2021-04-04 15:26:44.273087', 95),\n",
              " (16, '2021-04-04 15:26:44.473490', 91),\n",
              " (17, '2021-04-04 15:26:44.673922', 64),\n",
              " (18, '2021-04-04 15:26:44.874355', 86),\n",
              " (19, '2021-04-04 15:26:45.074748', 35),\n",
              " (20, '2021-04-04 15:26:45.426309', 63),\n",
              " (21, '2021-04-04 15:26:45.441400', 81),\n",
              " (22, '2021-04-04 15:26:45.441558', 56),\n",
              " (23, '2021-04-04 15:26:45.441580', 16),\n",
              " (24, '2021-04-04 15:26:45.441592', 62),\n",
              " (25, '2021-04-04 15:26:45.441604', 46),\n",
              " (26, '2021-04-04 15:26:45.441615', 13),\n",
              " (27, '2021-04-04 15:26:45.441627', 57),\n",
              " (28, '2021-04-04 15:26:45.441638', 85),\n",
              " (29, '2021-04-04 15:26:45.441650', 24),\n",
              " (30, '2021-04-04 15:26:45.441662', 19),\n",
              " (31, '2021-04-04 15:26:45.441673', 23),\n",
              " (32, '2021-04-04 15:26:45.441684', 72),\n",
              " (33, '2021-04-04 15:26:45.441695', 98),\n",
              " (34, '2021-04-04 15:26:45.441707', 64),\n",
              " (35, '2021-04-04 15:26:45.441719', 80),\n",
              " (36, '2021-04-04 15:26:45.441731', 97),\n",
              " (37, '2021-04-04 15:26:45.441743', 74),\n",
              " (38, '2021-04-04 15:26:45.441766', 39),\n",
              " (39, '2021-04-04 15:26:45.441779', 62),\n",
              " (40, '2021-04-04 15:26:45.441791', 28),\n",
              " (41, '2021-04-04 15:26:45.441803', 73),\n",
              " (42, '2021-04-04 15:26:45.441815', 55),\n",
              " (43, '2021-04-04 15:26:45.441828', 20),\n",
              " (44, '2021-04-04 15:26:45.441841', 11),\n",
              " (45, '2021-04-04 15:26:45.441854', 36),\n",
              " (46, '2021-04-04 15:26:45.441866', 21),\n",
              " (47, '2021-04-04 15:26:45.441880', 8),\n",
              " (48, '2021-04-04 15:26:45.441892', 21),\n",
              " (49, '2021-04-04 15:26:45.441904', 80)]"
            ]
          },
          "metadata": {
            "tags": []
          },
          "execution_count": 21
        }
      ]
    },
    {
      "cell_type": "code",
      "metadata": {
        "id": "0SwcSjZXfB3s"
      },
      "source": [
        "#Gravando dados\n",
        "con.commit()"
      ],
      "execution_count": null,
      "outputs": []
    },
    {
      "cell_type": "code",
      "metadata": {
        "id": "vZdMrYm2fSwz"
      },
      "source": [
        "#Fechando conexão\n",
        "con.close()"
      ],
      "execution_count": null,
      "outputs": []
    }
  ]
}